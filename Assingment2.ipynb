{
 "cells": [
  {
   "cell_type": "code",
   "execution_count": 7,
   "id": "5c93b78e-1f7f-46c7-baf2-8af0b645ddc7",
   "metadata": {},
   "outputs": [
    {
     "name": "stdout",
     "output_type": "stream",
     "text": [
      "Good\n",
      "12\n",
      "25\n",
      "Do it\n",
      "17\n",
      "\n",
      "0\n",
      "1\n",
      "2\n",
      "3\n",
      "4\n"
     ]
    }
   ],
   "source": [
    "#Ans 1:\n",
    "\n",
    "# \"for\" loop is used to iterate over a sequance and execute a block of code for each item in the sequence.\n",
    "\n",
    "l = [\"Good\",12,25,\"Do it\",17]\n",
    "\n",
    "for i in l:\n",
    "    print(i)\n",
    "    \n",
    "#\"While\" loop is used to repeatedly execute a block of code when given condition is true \n",
    "print()\n",
    "count = 0\n",
    "while count<5:\n",
    "    print(count)\n",
    "    count = count + 1\n",
    "    "
   ]
  },
  {
   "cell_type": "code",
   "execution_count": null,
   "id": "56c39a2c-c510-4c54-9709-ca4ff5eb9b0d",
   "metadata": {},
   "outputs": [],
   "source": [
    "#ANS 2\n",
    "\n",
    "sum_num = 0\n",
    "product_num=1\n",
    "i=1\n",
    "\n",
    "while i<=10:\n",
    "    sum_num = sum_num + i\n",
    "    product_num = product_num * i\n",
    "    i =i+1\n",
    "    \n",
    "print(\"Sum od frist 10 natural number using while loop is \",sum_num)\n",
    "print(\"product of first natural number using while loop is \",product_num)\n",
    "   \n",
    "sum_num =0\n",
    "product_num = 1\n",
    "\n",
    "for i in range(1,11):\n",
    "    sum_num = sum_num+i\n",
    "    product_num *=i\n",
    "    \n",
    "print(\"Sum od frist 10 natural number using for loop is \",sum_num)\n",
    "print(\"product of first natural number using for loop is \",product_num)"
   ]
  },
  {
   "cell_type": "code",
   "execution_count": 1,
   "id": "345f1c60-43fa-4d6e-bbc6-a45941cbb9aa",
   "metadata": {},
   "outputs": [
    {
     "name": "stdin",
     "output_type": "stream",
     "text": [
      "Enter a Unit of electricity consumed in a month.\n",
      " 10\n"
     ]
    },
    {
     "name": "stdout",
     "output_type": "stream",
     "text": [
      "Rs 4.5 per unit charge\n",
      "Electricity bill is :  45.0\n"
     ]
    }
   ],
   "source": [
    "#ANS 3:\n",
    "\n",
    "#compute the electricity bill\n",
    "unit = int(input(\"Enter a Unit of electricity consumed in a month.\\n\"))\n",
    "\n",
    "if(unit<=100):\n",
    "    print(\"Rs 4.5 per unit charge\")\n",
    "    print(\"Electricity bill is : \",4.5*unit)\n",
    "elif(unit<=200 and unit>100):\n",
    "    print(\"Rs 6 per unit charge\")\n",
    "    print(\"Electricity bill is : \",6*unit)\n",
    "elif(unit<=300 and unit>200):\n",
    "    print(\"Rs 10 per unit charge\")\n",
    "    print(\"Electricity bill is : \",10*unit)\n",
    "else:\n",
    "    print(\"Rs 20 per unit charge\")\n",
    "    print(\"Electricity bill is : \",20*unit)\n"
   ]
  },
  {
   "cell_type": "code",
   "execution_count": 16,
   "id": "48506a49-e68c-4d2a-8179-d9911b92a96a",
   "metadata": {},
   "outputs": [
    {
     "name": "stdout",
     "output_type": "stream",
     "text": [
      "1000000\n",
      "No divisable by 4 and 5 is \n",
      "\n",
      " [8, 64, 125, 216, 512, 1000, 1728, 2744, 3375, 4096, 5832, 8000, 10648, 13824, 15625, 17576, 21952, 27000, 32768, 39304, 42875, 46656, 54872, 64000, 74088, 85184, 91125, 97336, 110592, 125000, 140608, 157464, 166375, 175616, 195112, 216000, 238328, 262144, 274625, 287496, 314432, 343000, 373248, 405224, 421875, 438976, 474552, 512000, 551368, 592704, 614125, 636056, 681472, 729000, 778688, 830584, 857375, 884736, 941192, 1000000]\n",
      "\n",
      "\n",
      "Dvisable by 4 and 5 number is : \n",
      "\n",
      " [8, 64, 125, 216, 512, 1000, 1728, 2744, 3375, 4096, 5832, 8000, 10648, 13824, 15625, 17576, 21952, 27000, 32768, 39304, 42875, 46656, 54872, 64000, 74088, 85184, 91125, 97336, 110592, 125000, 140608, 157464, 166375, 175616, 195112, 216000, 238328, 262144, 274625, 287496, 314432, 343000, 373248, 405224, 421875, 438976, 474552, 512000, 551368, 592704, 614125, 636056, 681472, 729000, 778688, 830584, 857375, 884736, 941192, 1000000]\n"
     ]
    }
   ],
   "source": [
    "#ANS 4\n",
    "\n",
    "#USING WHILE LOOP\n",
    "no_divisable=[]\n",
    "i = 1\n",
    "\n",
    "while i<=100:\n",
    "    cube = i**3\n",
    "    if cube%4==0 or cube%5==0:\n",
    "        no_divisable.append(cube)    \n",
    "    \n",
    "    i+=1\n",
    "print(cube)\n",
    "print(\"No divisable by 4 and 5 is \\n\\n\",no_divisable)\n",
    "\n",
    "#USING FOR LOOP\n",
    "divisable_no = []\n",
    "\n",
    "for i in range(1,101):\n",
    "    cube = i ** 3\n",
    "    if cube%4==0 or cube%5==0:\n",
    "        divisable_no.append(cube)\n",
    "        \n",
    "print(\"\\n\\nDvisable by 4 and 5 number is : \\n\\n\",divisable_no)\n"
   ]
  },
  {
   "cell_type": "code",
   "execution_count": 24,
   "id": "66b246a4-f841-4b48-a3c1-6c4087a03d17",
   "metadata": {},
   "outputs": [
    {
     "name": "stdout",
     "output_type": "stream",
     "text": [
      "12\n"
     ]
    }
   ],
   "source": [
    "#ANS 5:\n",
    "\n",
    "string = \"I Want to become a data Scientist\"\n",
    "vowels = \"AEIOUaeiou\"\n",
    "count = 0\n",
    "\n",
    "for i in string:\n",
    "    if i in vowels:\n",
    "        count += 1\n",
    "        \n",
    "print(count)"
   ]
  },
  {
   "cell_type": "code",
   "execution_count": null,
   "id": "76f14a13-7904-4953-9705-8aff93284d10",
   "metadata": {},
   "outputs": [],
   "source": []
  }
 ],
 "metadata": {
  "kernelspec": {
   "display_name": "Python 3 (ipykernel)",
   "language": "python",
   "name": "python3"
  },
  "language_info": {
   "codemirror_mode": {
    "name": "ipython",
    "version": 3
   },
   "file_extension": ".py",
   "mimetype": "text/x-python",
   "name": "python",
   "nbconvert_exporter": "python",
   "pygments_lexer": "ipython3",
   "version": "3.10.8"
  }
 },
 "nbformat": 4,
 "nbformat_minor": 5
}
