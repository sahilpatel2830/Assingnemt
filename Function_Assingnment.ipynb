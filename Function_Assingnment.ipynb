{
 "cells": [
  {
   "cell_type": "code",
   "execution_count": 7,
   "id": "2bd40a35-900c-41e2-81d0-5b06cdcc2554",
   "metadata": {},
   "outputs": [],
   "source": [
    "# Ans 1 : \n",
    "\n",
    " #def keyword is used to create a Function.\n",
    "\n",
    "def odd_num():\n",
    "    l = []\n",
    "    for i in range(1,26):\n",
    "        if i%2!=0:\n",
    "            l.append(i)\n",
    "    return l\n"
   ]
  },
  {
   "cell_type": "code",
   "execution_count": 8,
   "id": "f0e203d5-d4df-4e2d-9a71-f04c5758574e",
   "metadata": {},
   "outputs": [
    {
     "data": {
      "text/plain": [
       "[1, 3, 5, 7, 9, 11, 13, 15, 17, 19, 21, 23, 25]"
      ]
     },
     "execution_count": 8,
     "metadata": {},
     "output_type": "execute_result"
    }
   ],
   "source": [
    "odd_num()"
   ]
  },
  {
   "cell_type": "raw",
   "id": "834def0e-f495-4ec8-a218-d1c2e6113bb3",
   "metadata": {},
   "source": [
    "Ans 2:\n",
    "\n",
    "  *args is used to pass a variable number of non-keyworded arguments to a function. The * symbol before the parameter name tells Python to pack all remaining arguments into a tuple.\n",
    "  **kwargs is used to pass a variable number of keyword arguments to a function. The ** symbol before the parameter name tells Python to pack all remaining keyword arguments into a dictionary.\n",
    "  "
   ]
  },
  {
   "cell_type": "code",
   "execution_count": 9,
   "id": "15fa4b4d-5b91-43d8-a244-24ad5893d5b3",
   "metadata": {},
   "outputs": [],
   "source": [
    "def my_fun(*args):\n",
    "    return args"
   ]
  },
  {
   "cell_type": "code",
   "execution_count": 10,
   "id": "bd6d37d4-c7e0-4ea4-9195-b3570857b0dc",
   "metadata": {},
   "outputs": [
    {
     "data": {
      "text/plain": [
       "(10, 20, 30)"
      ]
     },
     "execution_count": 10,
     "metadata": {},
     "output_type": "execute_result"
    }
   ],
   "source": [
    "my_fun(10,20,30)"
   ]
  },
  {
   "cell_type": "code",
   "execution_count": 11,
   "id": "ff9c1932-7fb2-42af-baff-dd88c54d9341",
   "metadata": {},
   "outputs": [],
   "source": [
    "def fun(**kwargs):\n",
    "    return kwargs"
   ]
  },
  {
   "cell_type": "code",
   "execution_count": 13,
   "id": "43fb89a8-6ed5-4613-b34e-078d07f62712",
   "metadata": {},
   "outputs": [
    {
     "data": {
      "text/plain": [
       "{'name': 'Sahil', 'Age': 23}"
      ]
     },
     "execution_count": 13,
     "metadata": {},
     "output_type": "execute_result"
    }
   ],
   "source": [
    "fun(name = \"Sahil\",Age = 23)"
   ]
  },
  {
   "cell_type": "code",
   "execution_count": null,
   "id": "7022eb7a-b748-497a-970f-6d3010bcb241",
   "metadata": {},
   "outputs": [],
   "source": []
  },
  {
   "cell_type": "markdown",
   "id": "b2d7f17d-031f-46aa-a889-a2d5c30aec18",
   "metadata": {},
   "source": [
    "Ans 3:\n",
    "\n",
    "iterator is an object that allow that allow you to iterate over collection of data one item at a time, without having to know the underlying structure of the collection.\n",
    "\n",
    "Method : __iter__\n",
    "        __next__\n",
    "        \n",
    "The __iter__ method returns the iterator object itself, while the __next__ method returns the next item in the collection. When there are no more items to return, the __next__ method raises the StopIteration exception."
   ]
  },
  {
   "cell_type": "code",
   "execution_count": 17,
   "id": "03affc0c-7788-43e4-b349-c7a785f1c984",
   "metadata": {},
   "outputs": [
    {
     "name": "stdout",
     "output_type": "stream",
     "text": [
      "2\n",
      "4\n",
      "6\n",
      "8\n",
      "10\n"
     ]
    }
   ],
   "source": [
    "l = [2,4,6,8,10,12,14,16,18,20]\n",
    "\n",
    "my_iterater = iter(l)\n",
    "\n",
    "print(next(my_iterater))\n",
    "print(next(my_iterater))\n",
    "print(next(my_iterater))\n",
    "print(next(my_iterater))\n",
    "print(next(my_iterater))"
   ]
  },
  {
   "cell_type": "code",
   "execution_count": 20,
   "id": "cf1990c9-e1e3-4821-a851-e3f995b4874b",
   "metadata": {},
   "outputs": [
    {
     "name": "stdout",
     "output_type": "stream",
     "text": [
      "2\n",
      "4\n",
      "6\n",
      "8\n",
      "10\n"
     ]
    }
   ],
   "source": [
    "#Using For loop\n",
    "for i in l[:5]:\n",
    "    print(i)"
   ]
  },
  {
   "cell_type": "code",
   "execution_count": null,
   "id": "cf39937c-9986-4373-9d5d-c068896e7675",
   "metadata": {},
   "outputs": [],
   "source": []
  },
  {
   "cell_type": "markdown",
   "id": "e24ce448-1b8e-4587-ad37-fd05968ef245",
   "metadata": {},
   "source": [
    "Ans 4 : \n",
    "\n",
    "generator function is a special type of function that generates an iterator. Unlike regular functions that return a single value, a generator function generates a sequence of values using the yield statement. \n",
    "\n",
    "The yield statement is similar to the return statement, but instead of returning a value and terminating the function, it temporarily suspends the function's execution and returns a value to the caller. When the generator function is called again, it resumes execution from where it left off and continues generating values.\n",
    "\n"
   ]
  },
  {
   "cell_type": "code",
   "execution_count": 5,
   "id": "379ddfd1-6550-471e-9235-71c133677651",
   "metadata": {},
   "outputs": [],
   "source": [
    "\n",
    "def gen(n):\n",
    "    i = 1\n",
    "    while i <= n:\n",
    "        yield i\n",
    "        i = i+1"
   ]
  },
  {
   "cell_type": "code",
   "execution_count": 6,
   "id": "49820edd-1b54-4f9b-bb86-a7da575bd353",
   "metadata": {},
   "outputs": [
    {
     "name": "stdout",
     "output_type": "stream",
     "text": [
      "1\n",
      "2\n",
      "3\n",
      "4\n",
      "5\n"
     ]
    }
   ],
   "source": [
    "for i in gen(5):\n",
    "    print(i)"
   ]
  },
  {
   "cell_type": "code",
   "execution_count": 11,
   "id": "bd909764-45d5-4382-85b5-cf4b168f1d81",
   "metadata": {},
   "outputs": [
    {
     "name": "stdout",
     "output_type": "stream",
     "text": [
      "2\n",
      "3\n",
      "5\n",
      "7\n",
      "11\n",
      "13\n",
      "17\n",
      "19\n",
      "23\n",
      "29\n",
      "31\n",
      "37\n",
      "41\n",
      "43\n",
      "47\n",
      "53\n",
      "59\n",
      "61\n",
      "67\n",
      "71\n"
     ]
    }
   ],
   "source": [
    "#ANS 7\n",
    "\n",
    "def prime_generator():\n",
    "    num = 2\n",
    "    while num < 1000:\n",
    "        is_prime = True\n",
    "        for i in range(2, num):\n",
    "            if num % i == 0:\n",
    "                is_prime = False\n",
    "                break\n",
    "        if is_prime:\n",
    "            yield num\n",
    "        num += 1\n",
    "\n",
    "# Create the prime number generator\n",
    "prime_gen = prime_generator()\n",
    "\n",
    "# Print the first 20 prime numbers\n",
    "for _ in range(20):\n",
    "    prime = next(prime_gen)\n",
    "    print(prime)\n"
   ]
  },
  {
   "cell_type": "code",
   "execution_count": 14,
   "id": "57726aa0-2a74-4d59-aef7-5e32bd8d5311",
   "metadata": {},
   "outputs": [
    {
     "name": "stdout",
     "output_type": "stream",
     "text": [
      "0 1 1 2 3 5 8 13 21 34 "
     ]
    }
   ],
   "source": [
    "# ANS : 6\n",
    "\n",
    "def fibb():\n",
    "    count = 0\n",
    "    num1 = 0\n",
    "    num2 = 1\n",
    "    \n",
    "    while count < 10:\n",
    "        print(num1,end = \" \")\n",
    "        \n",
    "        num1,num2 = num2,num1 + num2\n",
    "        count = count + 1\n",
    "        \n",
    "fibb()"
   ]
  },
  {
   "cell_type": "code",
   "execution_count": 18,
   "id": "78515cc9-5335-46a7-88d9-b7bdd86134a3",
   "metadata": {},
   "outputs": [
    {
     "data": {
      "text/plain": [
       "['p', 'w', 's', 'k', 'i', 'l', 'l', 's']"
      ]
     },
     "execution_count": 18,
     "metadata": {},
     "output_type": "execute_result"
    }
   ],
   "source": [
    "# ANS 7\n",
    "x = \"pwskills\"\n",
    "[i for i in x ]\n"
   ]
  },
  {
   "cell_type": "code",
   "execution_count": 9,
   "id": "57732b08-6b52-4a89-8df8-0cd6fde6d6b3",
   "metadata": {},
   "outputs": [
    {
     "name": "stdin",
     "output_type": "stream",
     "text": [
      "Enter a number :  sdsdds5\n"
     ]
    },
    {
     "name": "stdout",
     "output_type": "stream",
     "text": [
      "enter valid integer\n"
     ]
    },
    {
     "name": "stdin",
     "output_type": "stream",
     "text": [
      "Enter a number :  525\n"
     ]
    },
    {
     "name": "stdout",
     "output_type": "stream",
     "text": [
      "Pelindrom number\n"
     ]
    }
   ],
   "source": [
    "#ANS 8\n",
    "while True:\n",
    "    n = input(\"Enter a number : \")\n",
    "    if n.isdigit():\n",
    "        n = int(n)\n",
    "        break\n",
    "    else:\n",
    "        print(\"enter valid integer\")\n",
    "        \n",
    "orignal_num = n\n",
    "reverse_num = 0\n",
    "\n",
    "while n > 0:\n",
    "    digit = n % 10\n",
    "    reverse_num = reverse_num * 10 + digit\n",
    "    n = n // 10\n",
    "        \n",
    "if orignal_num == reverse_num:\n",
    "    print(\"Pelindrom number\")\n",
    "else:\n",
    "    print(\"Not Pelindrom Number\")\n"
   ]
  },
  {
   "cell_type": "code",
   "execution_count": 10,
   "id": "60e111b7-8890-4ed6-a301-a1623b20e7b4",
   "metadata": {},
   "outputs": [
    {
     "data": {
      "text/plain": [
       "[1,\n",
       " 3,\n",
       " 5,\n",
       " 7,\n",
       " 9,\n",
       " 11,\n",
       " 13,\n",
       " 15,\n",
       " 17,\n",
       " 19,\n",
       " 21,\n",
       " 23,\n",
       " 25,\n",
       " 27,\n",
       " 29,\n",
       " 31,\n",
       " 33,\n",
       " 35,\n",
       " 37,\n",
       " 39,\n",
       " 41,\n",
       " 43,\n",
       " 45,\n",
       " 47,\n",
       " 49,\n",
       " 51,\n",
       " 53,\n",
       " 55,\n",
       " 57,\n",
       " 59,\n",
       " 61,\n",
       " 63,\n",
       " 65,\n",
       " 67,\n",
       " 69,\n",
       " 71,\n",
       " 73,\n",
       " 75,\n",
       " 77,\n",
       " 79,\n",
       " 81,\n",
       " 83,\n",
       " 85,\n",
       " 87,\n",
       " 89,\n",
       " 91,\n",
       " 93,\n",
       " 95,\n",
       " 97,\n",
       " 99]"
      ]
     },
     "execution_count": 10,
     "metadata": {},
     "output_type": "execute_result"
    }
   ],
   "source": [
    "#ANS 9\n",
    "\n",
    "[i for i in range(1,101) if i%2 != 0]\n"
   ]
  },
  {
   "cell_type": "code",
   "execution_count": null,
   "id": "5d0dd50d-6efe-44ca-972c-8728fb63ca8e",
   "metadata": {},
   "outputs": [],
   "source": []
  }
 ],
 "metadata": {
  "kernelspec": {
   "display_name": "Python 3 (ipykernel)",
   "language": "python",
   "name": "python3"
  },
  "language_info": {
   "codemirror_mode": {
    "name": "ipython",
    "version": 3
   },
   "file_extension": ".py",
   "mimetype": "text/x-python",
   "name": "python",
   "nbconvert_exporter": "python",
   "pygments_lexer": "ipython3",
   "version": "3.10.8"
  }
 },
 "nbformat": 4,
 "nbformat_minor": 5
}
